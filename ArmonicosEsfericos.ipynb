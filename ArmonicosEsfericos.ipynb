{
 "cells": [
  {
   "cell_type": "code",
   "execution_count": 14,
   "metadata": {},
   "outputs": [
    {
     "data": {
      "application/vnd.jupyter.widget-view+json": {
       "model_id": "a800d9f035864f789427b919dbd951eb",
       "version_major": 2,
       "version_minor": 0
      },
      "text/plain": [
       "interactive(children=(BoundedIntText(value=0, continuous_update=True, description='l1'), Dropdown(description=…"
      ]
     },
     "metadata": {},
     "output_type": "display_data"
    }
   ],
   "source": [
    "import numpy as np\n",
    "import matplotlib.pyplot as plt\n",
    "import ipywidgets as wid\n",
    "from scipy.special import sph_harm\n",
    "from matplotlib import cm\n",
    "\n",
    "\n",
    "class Model:\n",
    "    def interaction(self):\n",
    "        l1= wid.BoundedIntText(value=0, min=0, max=100, step=1, continuous_update=True, description=\"l1\")\n",
    "        opt1=[0]\n",
    "        m1=wid.Dropdown(options=opt1, value=0, description=\"m1\")\n",
    "\n",
    "        ang=wid.FloatSlider(value=35, min=-90, max=90, description=\"Giro Horizontal\")\n",
    "        alt=wid.FloatSlider(value=30, min=-90, max=90, description=\"Giro Vertical\")\n",
    "        \n",
    "        doble=wid.Checkbox(value=False, description='Sumar segundo resultado')\n",
    "        \n",
    "        l2= wid.BoundedIntText(value=0, min=0, max=100, step=1, continuous_update=True, description=\"l2\")\n",
    "        opt2=[0]\n",
    "        m2=wid.Dropdown(options=opt2, value=0, description=\"m2\")\n",
    "        \n",
    "        def on_value_change1(change):\n",
    "            opt1=[0]\n",
    "            \n",
    "            if l1.value>0:\n",
    "                for i in range(1,l1.value+1):\n",
    "                    opt1=[-i]+opt1+[i]\n",
    "            m1.options=opt1\n",
    "        l1.observe(on_value_change1,'value')\n",
    "        \n",
    "        def on_value_change2(change):\n",
    "            opt2=[0]\n",
    "            \n",
    "            if l2.value>0:\n",
    "                for i in range(1,l2.value+1):\n",
    "                    opt2=[-i]+opt2+[i]\n",
    "            m2.options=opt2\n",
    "        l1.observe(on_value_change1,'value')\n",
    "\n",
    "        widgetlist = {\"l1\":l1,\"m1\":m1,\"l2\":l2,\"m2\":m2,\"doble\":doble,\"alt\":alt,\"ang\":ang}\n",
    "        wid.interact(self.run,**widgetlist)\n",
    "        \n",
    "class ArmonicosEsfericos(Model):\n",
    "    \n",
    "    def run(self,l1,m1, l2, m2, doble,alt, ang):\n",
    "        \n",
    "        # Create a sphere\n",
    "        r = 0.3\n",
    "        pi = np.pi\n",
    "        cos = np.cos\n",
    "        sin = np.sin\n",
    "        phi, theta = np.mgrid[0:pi:101j, 0:2 * pi:101j]\n",
    "\n",
    "        x = r * sin(phi) * cos(theta)\n",
    "        y = r * sin(phi) * sin(theta)\n",
    "        z = r * cos(phi)\n",
    "\n",
    "        s = np.absolute(sph_harm(m1, l1, theta, phi))**2\n",
    "\n",
    "        fig = plt.figure()\n",
    "        ax = fig.gca(projection='3d')\n",
    "        ax.view_init(alt, ang)\n",
    "        Title=\"Y(m=\"+str(m1)+\", l=\"+str(l1)+\")\"\n",
    "        \n",
    "        if doble==True:\n",
    "            s2 = np.absolute(sph_harm(m2, l2, theta, phi))**2\n",
    "            s=s+s2\n",
    "            Title=Title+\" + Y(m=\"+str(m2)+\", l=\"+str(l2)+\")\"\n",
    "        surf = ax.plot_surface(s * x - m1+1, s * y - l1+1, s * z+1, cmap=cm.coolwarm,\n",
    "                       linewidth=0, antialiased=True)\n",
    "        ax.set_title(Title)\n",
    "        plt.show()\n",
    "        \n",
    "ArmonicosEsfericos().interaction()"
   ]
  },
  {
   "cell_type": "code",
   "execution_count": null,
   "metadata": {},
   "outputs": [],
   "source": []
  }
 ],
 "metadata": {
  "kernelspec": {
   "display_name": "Python 3",
   "language": "python",
   "name": "python3"
  },
  "language_info": {
   "codemirror_mode": {
    "name": "ipython",
    "version": 3
   },
   "file_extension": ".py",
   "mimetype": "text/x-python",
   "name": "python",
   "nbconvert_exporter": "python",
   "pygments_lexer": "ipython3",
   "version": "3.7.9"
  },
  "latex_envs": {
   "LaTeX_envs_menu_present": true,
   "autoclose": false,
   "autocomplete": true,
   "bibliofile": "biblio.bib",
   "cite_by": "apalike",
   "current_citInitial": 1,
   "eqLabelWithNumbers": true,
   "eqNumInitial": 1,
   "hotkeys": {
    "equation": "Ctrl-E",
    "itemize": "Ctrl-I"
   },
   "labels_anchors": false,
   "latex_user_defs": false,
   "report_style_numbering": false,
   "user_envs_cfg": false
  },
  "toc": {
   "base_numbering": 1,
   "nav_menu": {},
   "number_sections": true,
   "sideBar": true,
   "skip_h1_title": false,
   "title_cell": "Table of Contents",
   "title_sidebar": "Contents",
   "toc_cell": false,
   "toc_position": {},
   "toc_section_display": true,
   "toc_window_display": true
  },
  "varInspector": {
   "cols": {
    "lenName": 16,
    "lenType": 16,
    "lenVar": 40
   },
   "kernels_config": {
    "python": {
     "delete_cmd_postfix": "",
     "delete_cmd_prefix": "del ",
     "library": "var_list.py",
     "varRefreshCmd": "print(var_dic_list())"
    },
    "r": {
     "delete_cmd_postfix": ") ",
     "delete_cmd_prefix": "rm(",
     "library": "var_list.r",
     "varRefreshCmd": "cat(var_dic_list()) "
    }
   },
   "types_to_exclude": [
    "module",
    "function",
    "builtin_function_or_method",
    "instance",
    "_Feature"
   ],
   "window_display": false
  }
 },
 "nbformat": 4,
 "nbformat_minor": 4
}
