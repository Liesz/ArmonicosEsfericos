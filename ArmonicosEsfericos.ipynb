{
 "cells": [
  {
   "cell_type": "code",
   "execution_count": 2,
   "metadata": {},
   "outputs": [
    {
     "data": {
      "application/vnd.jupyter.widget-view+json": {
       "model_id": "ba4e7966c04d4ecd979ef605d7f3e895",
       "version_major": 2,
       "version_minor": 0
      },
      "text/plain": [
       "interactive(children=(BoundedIntText(value=0, continuous_update=True, description='l'), Dropdown(description='…"
      ]
     },
     "metadata": {},
     "output_type": "display_data"
    }
   ],
   "source": [
    "import numpy as np\n",
    "import matplotlib.pyplot as plt\n",
    "import ipywidgets as wid\n",
    "from scipy.special import sph_harm\n",
    "from matplotlib import cm\n",
    "\n",
    "\n",
    "class Model:\n",
    "    def interaction(self):\n",
    "        l= wid.BoundedIntText(value=0, min=0, max=100, step=1, continuous_update=True, description=\"l\")\n",
    "        opt=[0]\n",
    "        m=wid.Dropdown(options=opt, value=0, description=\"m\")\n",
    "\n",
    "        ang=wid.FloatSlider(value=35, min=-90, max=90, description=\"Giro Horizontal\")\n",
    "        alt=wid.FloatSlider(value=30, min=-90, max=90, description=\"Giro Vertical\")\n",
    "        def on_value_change(change):\n",
    "            opt=[0]\n",
    "            \n",
    "            if l.value>0:\n",
    "                for i in range(1,l.value+1):\n",
    "                    opt=[-i]+opt+[i]\n",
    "            m.options=opt\n",
    "        l.observe(on_value_change,'value')\n",
    "\n",
    "        widgetlist = {\"l\":l,\"m\":m,\"alt\":alt,\"ang\":ang}\n",
    "        wid.interact(self.run,**widgetlist)\n",
    "        \n",
    "class ArmonicosEsfericos(Model):\n",
    "    \n",
    "    def run(self,l,m,alt, ang):\n",
    "        \n",
    "        # Create a sphere\n",
    "        r = 0.3\n",
    "        pi = np.pi\n",
    "        cos = np.cos\n",
    "        sin = np.sin\n",
    "        phi, theta = np.mgrid[0:pi:101j, 0:2 * pi:101j]\n",
    "\n",
    "        x = r * sin(phi) * cos(theta)\n",
    "        y = r * sin(phi) * sin(theta)\n",
    "        z = r * cos(phi)\n",
    "\n",
    "        s = sph_harm(m, l, theta, phi).real\n",
    "\n",
    "        fig = plt.figure()\n",
    "        ax = fig.gca(projection='3d')\n",
    "        ax.view_init(alt, ang)\n",
    "        surf = ax.plot_surface(s * x - m, s * y - l, s * z + 1.3, cmap=cm.coolwarm,\n",
    "                       linewidth=0, antialiased=True)\n",
    "\n",
    "        plt.show()\n",
    "        \n",
    "ArmonicosEsfericos().interaction()"
   ]
  },
  {
   "cell_type": "code",
   "execution_count": null,
   "metadata": {},
   "outputs": [],
   "source": []
  },
  {
   "cell_type": "code",
   "execution_count": null,
   "metadata": {},
   "outputs": [],
   "source": []
  }
 ],
 "metadata": {
  "kernelspec": {
   "display_name": "Python 3",
   "language": "python",
   "name": "python3"
  },
  "language_info": {
   "codemirror_mode": {
    "name": "ipython",
    "version": 3
   },
   "file_extension": ".py",
   "mimetype": "text/x-python",
   "name": "python",
   "nbconvert_exporter": "python",
   "pygments_lexer": "ipython3",
   "version": "3.7.9"
  },
  "latex_envs": {
   "LaTeX_envs_menu_present": true,
   "autoclose": false,
   "autocomplete": true,
   "bibliofile": "biblio.bib",
   "cite_by": "apalike",
   "current_citInitial": 1,
   "eqLabelWithNumbers": true,
   "eqNumInitial": 1,
   "hotkeys": {
    "equation": "Ctrl-E",
    "itemize": "Ctrl-I"
   },
   "labels_anchors": false,
   "latex_user_defs": false,
   "report_style_numbering": false,
   "user_envs_cfg": false
  },
  "toc": {
   "base_numbering": 1,
   "nav_menu": {},
   "number_sections": true,
   "sideBar": true,
   "skip_h1_title": false,
   "title_cell": "Table of Contents",
   "title_sidebar": "Contents",
   "toc_cell": false,
   "toc_position": {},
   "toc_section_display": true,
   "toc_window_display": false
  },
  "varInspector": {
   "cols": {
    "lenName": 16,
    "lenType": 16,
    "lenVar": 40
   },
   "kernels_config": {
    "python": {
     "delete_cmd_postfix": "",
     "delete_cmd_prefix": "del ",
     "library": "var_list.py",
     "varRefreshCmd": "print(var_dic_list())"
    },
    "r": {
     "delete_cmd_postfix": ") ",
     "delete_cmd_prefix": "rm(",
     "library": "var_list.r",
     "varRefreshCmd": "cat(var_dic_list()) "
    }
   },
   "types_to_exclude": [
    "module",
    "function",
    "builtin_function_or_method",
    "instance",
    "_Feature"
   ],
   "window_display": false
  }
 },
 "nbformat": 4,
 "nbformat_minor": 4
}
